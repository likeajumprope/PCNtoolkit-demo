{
 "cells": [
  {
   "cell_type": "code",
   "execution_count": 2,
   "metadata": {},
   "outputs": [],
   "source": [
    "def ldpkl(filename: str): \n",
    "    with open(filename, 'rb') as f:\n",
    "        return pickle.load(f)"
   ]
  },
  {
   "cell_type": "code",
   "execution_count": 19,
   "metadata": {},
   "outputs": [],
   "source": [
    "import os \n",
    "import pandas as pd\n",
    "import pickle\n",
    "working_dir = '/Users/johannabayer/Documents/Github/PCNtoolkit-demo/tutorials/HBR_SHASH/HBR_tutorial_wdir'"
   ]
  },
  {
   "cell_type": "code",
   "execution_count": null,
   "metadata": {},
   "outputs": [],
   "source": []
  },
  {
   "cell_type": "code",
   "execution_count": 25,
   "metadata": {},
   "outputs": [
    {
     "name": "stdout",
     "output_type": "stream",
     "text": [
      "    Left-Lateral-Ventricle\n",
      "0                  47735.2\n",
      "1                  13150.0\n",
      "2                  28776.4\n",
      "3                  30747.5\n",
      "4                  11951.8\n",
      "..                     ...\n",
      "95                  7500.1\n",
      "96                  9683.9\n",
      "97                  9104.4\n",
      "98                  6199.8\n",
      "99                  9275.1\n",
      "\n",
      "[100 rows x 1 columns]\n",
      "     age\n",
      "0   87.0\n",
      "1   90.0\n",
      "2   80.0\n",
      "3   83.0\n",
      "4   78.0\n",
      "..   ...\n",
      "95  33.0\n",
      "96  27.0\n",
      "97  66.0\n",
      "98  48.0\n",
      "99  71.0\n",
      "\n",
      "[100 rows x 1 columns]\n"
     ]
    }
   ],
   "source": [
    "X_train = pd.read_pickle(os.path.join(working_dir,'X_train.pkl'))\n",
    "Y_train = pd.read_pickle(os.path.join(working_dir,'Y_train.pkl'))\n",
    "\n",
    "X_pred = X_train.iloc[0: 100, :]\n",
    "Y_pred = Y_train.iloc[0: 100, :]\n",
    "\n",
    "print(Y_pred)\n",
    "print(X_pred)\n",
    "\n",
    "with open('X_pred.pkl', 'wb') as file:\n",
    "    pickle.dump(pd.DataFrame(X_pred), file)\n",
    "\n",
    "with open('Y_pred.pkl', 'wb') as file:\n",
    "    pickle.dump(pd.DataFrame(Y_pred), file)\n",
    "\n",
    "\n",
    "X_pred.to_csv('X_pred.txt', sep='\\t', index=False, header=False)\n",
    "Y_pred.to_csv('Y_pred.txt', sep='\\t', index=False,  header=False)"
   ]
  }
 ],
 "metadata": {
  "kernelspec": {
   "display_name": "SHASH",
   "language": "python",
   "name": "python3"
  },
  "language_info": {
   "codemirror_mode": {
    "name": "ipython",
    "version": 3
   },
   "file_extension": ".py",
   "mimetype": "text/x-python",
   "name": "python",
   "nbconvert_exporter": "python",
   "pygments_lexer": "ipython3",
   "version": "3.11.5"
  },
  "orig_nbformat": 4
 },
 "nbformat": 4,
 "nbformat_minor": 2
}
